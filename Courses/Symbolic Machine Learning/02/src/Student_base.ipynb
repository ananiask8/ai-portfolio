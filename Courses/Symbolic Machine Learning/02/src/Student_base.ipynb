{
 "cells": [
  {
   "cell_type": "code",
   "execution_count": null,
   "metadata": {
    "collapsed": true
   },
   "outputs": [],
   "source": [
    "import pandas as pd\n",
    "import numpy as np\n",
    "from scipy.stats import entropy\n",
    "\n",
    "from pgmpy.models import BayesianModel\n",
    "from pgmpy.estimators import HillClimbSearch, K2Score, BicScore\n",
    "from pgmpy.sampling.Sampling import BayesianModelSampling\n",
    "from pgmpy.factors.discrete.CPD import TabularCPD\n",
    "\n",
    "def JSD(P, Q):\n",
    "    _P = P / np.linalg.norm(P, ord=1)\n",
    "    _Q = Q / np.linalg.norm(Q, ord=1)\n",
    "    _M = 0.5 * (_P + _Q)\n",
    "    return 0.5 * (entropy(_P, _M) + entropy(_Q, _M))"
   ]
  },
  {
   "cell_type": "code",
   "execution_count": null,
   "metadata": {
    "collapsed": true
   },
   "outputs": [],
   "source": [
    "data = pd.DataFrame.from_csv('crash_sample_2018.csv', index_col=None)\n",
    "nodes = list(data.columns)\n",
    "cat_to_num = {'AvgSpeed' : {'low' :0, 'high':1}, \\\n",
    "              'Country' : {'US':0, 'UK':1, 'Europe':2}, \\\n",
    "              'DangerLvl' : {'low':0, 'high':1}, \\\n",
    "              'NoAccidents' : {'low':0, 'medium':1, 'high':2}, \\\n",
    "              'NoFatalities' : {'low':0, 'medium':1, 'high':2}, \\\n",
    "              'NoJourneys' : {'low':0, 'medium':1, 'high':2}, \\\n",
    "              'PoliceActivity' : {'regular':0, 'increased':1}, \\\n",
    "              'RoadCond' : {'bad':0,'good':1}, \\\n",
    "              'Season' : {'winter':0, 'spring':1, 'summer':2, 'fall':3}, \\\n",
    "              'Weather' : {'bad':0, 'good':1}, \\\n",
    "              'Weekend' : {'working':0, 'weekend':1, 'holiday':2},\n",
    "             }\n",
    "\n",
    "num_to_cat = {}\n",
    "for k1,v1 in cat_to_num.items():\n",
    "    num_to_cat[k1] = { v2 : k2 for k2, v2 in v1.items()}"
   ]
  },
  {
   "cell_type": "code",
   "execution_count": null,
   "metadata": {
    "collapsed": true
   },
   "outputs": [],
   "source": [
    "# select rows with missing data only\n",
    "# data[data.isnull().any(axis=1)]\n",
    "\n",
    "# get count of each combination in the data\n",
    "# data.groupby(nodes).size()\n",
    "\n",
    "# replace strings with numbers and back\n",
    "# data.replace(num_to_cat).replace(cat_to_num)"
   ]
  }
 ],
 "metadata": {
  "kernelspec": {
   "display_name": "Python 3",
   "language": "python",
   "name": "python3"
  },
  "language_info": {
   "codemirror_mode": {
    "name": "ipython",
    "version": 3
   },
   "file_extension": ".py",
   "mimetype": "text/x-python",
   "name": "python",
   "nbconvert_exporter": "python",
   "pygments_lexer": "ipython3",
   "version": "3.6.4"
  }
 },
 "nbformat": 4,
 "nbformat_minor": 2
}

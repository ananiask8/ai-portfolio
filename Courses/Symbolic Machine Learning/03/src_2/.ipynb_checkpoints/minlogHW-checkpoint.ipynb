{
 "cells": [
  {
   "cell_type": "markdown",
   "metadata": {
    "collapsed": true
   },
   "source": [
    "The basic principles of working with this library were shown in the notebook in the previous tutorial. This notebook describes only one functionality of the library, which may be helpful for your assignment."
   ]
  },
  {
   "cell_type": "markdown",
   "metadata": {},
   "source": [
    "See the following example which test whether one clause subsume another one."
   ]
  },
  {
   "cell_type": "code",
   "execution_count": 1,
   "metadata": {},
   "outputs": [],
   "source": [
    "from logic import *\n",
    "from bridge import subsume\n",
    "from dataset import ClauseDataset\n"
   ]
  },
  {
   "cell_type": "markdown",
   "metadata": {},
   "source": [
    "See the following example which test whether one clause subsume another one."
   ]
  },
  {
   "cell_type": "code",
   "execution_count": 254,
   "metadata": {},
   "outputs": [
    {
     "name": "stdout",
     "output_type": "stream",
     "text": [
      "f(b)\n",
      "c1 does False theta subsume c2\n",
      "c2 does False theta subsume c1\n"
     ]
    }
   ],
   "source": [
    "c1 = Clause.parse(\"p(Y, f(b), f(f(b)))\")\n",
    "print(c1.literals[0].atom.terms[2].terms[0])\n",
    "c2 = Clause.parse(\"!human(Z)\")\n",
    "print(\"c1 does {} theta subsume c2\".format(subsume(c1,c2)))\n",
    "print(\"c2 does {} theta subsume c1\".format(subsume(c2,c1)))"
   ]
  },
  {
   "cell_type": "markdown",
   "metadata": {},
   "source": [
    "For Python begginers who would search for similar functionality as instanceof in Java for example, use Python's function instanceof."
   ]
  },
  {
   "cell_type": "code",
   "execution_count": 249,
   "metadata": {},
   "outputs": [
    {
     "name": "stdout",
     "output_type": "stream",
     "text": [
      "human(X)\n",
      "Y\n",
      "V\n",
      "human(X) is  a term\n",
      "human(X) is not a constant\n",
      "human(X) is not a variable\n",
      "human(X) is  a compound term\n"
     ]
    }
   ],
   "source": [
    "x = c1.literals[0].atom.terms[0]\n",
    "a = c1.literals[0].atom\n",
    "idx = 2\n",
    "[print(t) for t in (a.terms[0:idx] + (Variable(\"V\"),) + a.terms[idx + 1:])]\n",
    "print(\"{} is {} a term\".format(x, \"\" if isinstance(x, Term) else \"not\"))\n",
    "print(\"{} is {} a constant\".format(x, \"\" if isinstance(x, Constant) else \"not\"))\n",
    "print(\"{} is {} a variable\".format(x, \"\" if isinstance(x, Variable) else \"not\"))\n",
    "print(\"{} is {} a compound term\".format(x, \"\" if isinstance(x, CompoundTerm) else \"not\"))"
   ]
  },
  {
   "cell_type": "markdown",
   "metadata": {},
   "source": [
    "Similary to the InterpretationDataset, there is a class ClauseDataset, e.g."
   ]
  },
  {
   "cell_type": "code",
   "execution_count": 14,
   "metadata": {},
   "outputs": [
    {
     "name": "stdout",
     "output_type": "stream",
     "text": [
      "label +, clause: !female(ingrid) | !female(jana) | !parent(ingrid, jana) | daugther(jana).\n",
      "label +, clause: !female(amalia) | !male(dan) | !parent(dan, amalia) | daugther(amalia).\n",
      "label +, clause: !female(X) | !human(Y) | !parent(Y, X) | daugther(X).\n",
      "label -, clause: !man(X) | !parent(Y, X) | son(X).\n"
     ]
    }
   ],
   "source": [
    "data = ClauseDataset(os.path.sep.join(['.', 'data', 'daughter']))\n",
    "for sample in data:\n",
    "    print(\"label {}, clause: {}\".format(\"+\" if sample.positiveClass else \"-\", sample.data))\n"
   ]
  },
  {
   "cell_type": "code",
   "execution_count": 79,
   "metadata": {},
   "outputs": [
    {
     "name": "stdout",
     "output_type": "stream",
     "text": [
      "[1, 1]\n"
     ]
    }
   ],
   "source": [
    "c1 = Clause.parse(\"!female(ingrid) , !female(mamo, jana) , !parent(ingrid, jana) , daugther(jana)\")\n",
    "c2 = Clause.parse(\"!female(ingrid) , !female(mamo, X) , !parent(ingrid, jana) , daugther(jana)\")\n",
    "leftmost = []\n",
    "p = 0\n",
    "for t in list(zip(c1.literals,c2.literals)):\n",
    "#     print(t[0], t[1], t[0] == t[1])\n",
    "    if not t[0] == t[1]:\n",
    "        leftmost.append(p)\n",
    "        q = 0\n",
    "        for x, y in zip(t[0], t[1]):\n",
    "            if not x == y:\n",
    "                leftmost.append(q)\n",
    "                break\n",
    "            q+= 1\n",
    "        break\n",
    "    p += 1\n",
    "\n",
    "print(leftmost)\n"
   ]
  },
  {
   "cell_type": "code",
   "execution_count": 202,
   "metadata": {},
   "outputs": [
    {
     "name": "stdout",
     "output_type": "stream",
     "text": [
      "========= !female(ingrid) !female(amalia)\n",
      "female(ingrid)\n",
      "!female(v1) ,  !female(jana) ,  !parent(ingrid, jana) ,  daugther(jana).\n",
      "!female(jana) | !female(v1) | !parent(ingrid, jana) | daugther(jana).\n",
      "!female(jana) | !female(v1) | !parent(ingrid, jana) | daugther(jana).\n",
      "!female(v1) | !male(dan) | !parent(dan, amalia) | daugther(amalia).\n"
     ]
    }
   ],
   "source": [
    "def replace(vj, a, b, l):\n",
    "    c1 = a.literals[l[0]].atom\n",
    "    c2 = b.literals[l[0]].atom\n",
    "    l = l[1:]\n",
    "    while len(l) > 0:\n",
    "        i = l.pop(0)\n",
    "        print(c1)\n",
    "        c1, c2 = c1.terms[i], c2.terms[i]\n",
    "        \n",
    "    print(\", \".join(str(a).replace(str(c1), str(vj).strip(\".\"), 1).split(\"|\")))    \n",
    "    a = Clause.parse(\", \".join(str(a).replace(str(c1), str(vj).strip(\".\"), 1).split(\"|\")))\n",
    "    print(a)    \n",
    "    b = Clause.parse(\", \".join(str(b).replace(str(c2), str(vj).strip(\".\"), 1).split(\"|\")))\n",
    "    return a, b\n",
    "    \n",
    "    print(b)\n",
    "#     print(str(b).replace(str(c2), str(vj).strip(\".\"), 1))\n",
    "    \n",
    "#     new_vars = {c1: }\n",
    "#     t1 = list(c1.terms)\n",
    "# #     print(vj)\n",
    "#     t1[l[0]] = vj\n",
    "#     t2 = list(c2.terms)\n",
    "#     t2[l[0]] = vj\n",
    "#     c1.terms = tuple(t1)\n",
    "#     c2.terms = tuple(t2)\n",
    "#     print(c1, [str(t) for t in c1.terms])\n",
    "        \n",
    "c1 = Clause.parse(\"!female(ingrid) , !female(jana) , !parent(ingrid, jana) , daugther(jana)\")\n",
    "c2 = Clause.parse(\"!female(amalia) , !male(dan) , !parent(dan, amalia) , daugther(amalia)\")\n",
    "l = list(zip(c1.literals,c2.literals))\n",
    "leftmost = []\n",
    "p = 0\n",
    "for l1, l2 in l:\n",
    "    \n",
    "    if not str(l1) == str(l2):\n",
    "        leftmost.append(p)\n",
    "        break\n",
    "    p += 1\n",
    "    \n",
    "p = 0\n",
    "while len(l) > 0:\n",
    "    t = l.pop(0)\n",
    "#     print(t[0], t[1])\n",
    "    if not str(t[0]) == str(t[1]):\n",
    "        print(\"=========\", t[0], t[1])\n",
    "        for x, y in zip(t[0], t[1]):\n",
    "#             print(x, y)\n",
    "            if not str(x) == str(y):\n",
    "#                 print(p)\n",
    "                leftmost.append(p)\n",
    "#                 print(x, isinstance(x, CompoundTerm))\n",
    "#                 print(y, isinstance(y, CompoundTerm))\n",
    "                \n",
    "                if isinstance(x, CompoundTerm) and isinstance(y, CompoundTerm):\n",
    "                    l = [(x, y)]\n",
    "                    p = 0\n",
    "                    break\n",
    "                else:\n",
    "                    l = []\n",
    "                    break\n",
    "            p += 1\n",
    "\n",
    "\n",
    "a, b = replace(Variable(\"v\" + str(1)), c1, c2, leftmost)\n",
    "print(a)\n",
    "print(b)"
   ]
  },
  {
   "cell_type": "code",
   "execution_count": 214,
   "metadata": {},
   "outputs": [
    {
     "data": {
      "text/plain": [
       "'!female(amalia) | !male(!X) | !parent(dan, A()) | X.'"
      ]
     },
     "execution_count": 214,
     "metadata": {},
     "output_type": "execute_result"
    }
   ],
   "source": [
    "c2 = Clause.parse(\"!female(amalia) , !male(!X) , !parent(dan, A()) , X()\")\n",
    "str(c2)"
   ]
  },
  {
   "cell_type": "code",
   "execution_count": 259,
   "metadata": {},
   "outputs": [
    {
     "name": "stdout",
     "output_type": "stream",
     "text": [
      "False\n",
      "p(Y, f(b), f(f(b))) | q(skate) | x(skate, f(b)) | y(f(f(f(b)))). p(V3, V2, f(V2)) | q(V1) | x(V1, V2).\n",
      "False\n"
     ]
    }
   ],
   "source": [
    "a = Clause.parse(\"p(V3, V2, f(V2)) , q(V1) , x(V1, V2) , y(f(f(V2)))\")\n",
    "b = Clause.parse(\"p(V3, V2, f(V2)) , q(V1) , x(V1, V2)\")\n",
    "print(subsume(a, b))\n",
    "\n",
    "a = Clause.parse(\"p(Y, f(b), f(f(b))) , q(skate) , x(skate, f(b)) , y(f(f(f(b))))\")\n",
    "b = Clause.parse(\"p(Y, f(b), f(f(b))) , q(skate) , x(skate, f(b))\")\n",
    "print(a, b)\n",
    "print(subsume(a, b))"
   ]
  },
  {
   "cell_type": "code",
   "execution_count": null,
   "metadata": {},
   "outputs": [],
   "source": []
  }
 ],
 "metadata": {
  "kernelspec": {
   "display_name": "Python 3",
   "language": "python",
   "name": "python3"
  },
  "language_info": {
   "codemirror_mode": {
    "name": "ipython",
    "version": 3
   },
   "file_extension": ".py",
   "mimetype": "text/x-python",
   "name": "python",
   "nbconvert_exporter": "python",
   "pygments_lexer": "ipython3",
   "version": "3.6.4"
  }
 },
 "nbformat": 4,
 "nbformat_minor": 1
}
